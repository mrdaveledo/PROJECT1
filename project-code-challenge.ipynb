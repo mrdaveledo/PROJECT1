{
 "cells": [
  {
   "cell_type": "markdown",
   "metadata": {},
   "source": [
    "<img src=\"http://imgur.com/1ZcRyrc.png\" style=\"float: left; margin: 20px; height: 55px\">\n",
    "\n",
    "# Project 1: Python Coding Exercises\n",
    "\n",
    "_Authors: Joseph Nelson (DC) _\n",
    "\n",
    "---"
   ]
  },
  {
   "cell_type": "markdown",
   "metadata": {},
   "source": [
    "## Due Date: 11:59pm Sunday 21st Oct (in your timezone)"
   ]
  },
  {
   "cell_type": "markdown",
   "metadata": {},
   "source": [
    "The following code challenges are drawn from common exercises used in technical interviews.\n",
    "\n",
    "Please note that there may be several ways to approach each challenge. If you get stuck, try mapping out your approach in pseudocode first. Finally, while solutions to problems like these may be found online, remember that if you copy/paste code that you can't explain, you'll be missing out on the point of the project. The only way to truly learn a new skill is through practice, trial, and error - we can only help you improve by understanding where you are having trouble."
   ]
  },
  {
   "cell_type": "markdown",
   "metadata": {},
   "source": [
    "### Challenge 1: Largest Palindrome\n",
    "A palindromic number reads the same both ways. For example, 1234321 is a palindrome. The largest palindrome made from the product of two two-digit numbers is 9009 = 91 × 99. Find the largest palindrome made from the product of two three-digit numbers. Afterward, write a brief explanation walking through your code's logic in markdown."
   ]
  },
  {
   "cell_type": "code",
   "execution_count": 1,
   "metadata": {},
   "outputs": [
    {
     "name": "stdout",
     "output_type": "stream",
     "text": [
      "Enter the maximum number: 52\n",
      "PALENDROMELARGEST 2112\n"
     ]
    }
   ],
   "source": [
    "z = int(input(\"Enter the maximum number: \"))\n",
    "print(\"\")\n",
    "\n",
    "largestresult = 1\n",
    "for i in range(z, 0, -1):\n",
    "    for j in range(z, 0, -1):\n",
    "        (result) = (i * j)\n",
    "        \n",
    "        revresult = int(str(result)[::-1])\n",
    "        check = (result) - (revresult)\n",
    "        \n",
    "        if check == 0 and result > largestresult:\n",
    "            largestresult = result\n",
    "    \n",
    "print('PALENDROMELARGEST', (largestresult))"
   ]
  },
  {
   "cell_type": "code",
   "execution_count": null,
   "metadata": {
    "collapsed": true
   },
   "outputs": [],
   "source": [
    "#deep joy... only took 3hours..\n",
    "#define the largest palendrome as 1 to start\n",
    "#create the loop range, starting at the largest and working backwards to 0\n",
    "#as there are 2 multipliers - need a loop in the loop\n",
    "#used the [::-1] thing to reverse the integer output and if one minus the other =  0 = palendrome\n",
    "#if = 0 and the number is larger than the previous one - then store it as largestresult\n",
    "#at the end of it - will print the stored number - largestresult"
   ]
  },
  {
   "cell_type": "markdown",
   "metadata": {},
   "source": [
    "\n",
    "### Challenge 2: Summation of Primes\n",
    "The sum of the primes below 10 is 2 + 3 + 5 + 7 = 17. Find the sum of all the primes below 2,000. Afterward, write a brief explanation walking through your code's logic in markdown."
   ]
  },
  {
   "cell_type": "code",
   "execution_count": 5,
   "metadata": {},
   "outputs": [
    {
     "name": "stdout",
     "output_type": "stream",
     "text": [
      "Enter the maximum number: 2000\n",
      "277050\n"
     ]
    }
   ],
   "source": [
    "z = int(input(\"Enter the maximum number: \"))\n",
    "print(\"\")\n",
    "\n",
    "s = 0\n",
    "\n",
    "for primennn in range(2, z):\n",
    "    isprime = True\n",
    "    for numbers in range(2, primennn):\n",
    "        if primennn % numbers == 0:\n",
    "            isprime = False\n",
    "            \n",
    "    if isprime:\n",
    "        s = s + primennn\n",
    "\n",
    "print(s)"
   ]
  },
  {
   "cell_type": "code",
   "execution_count": null,
   "metadata": {},
   "outputs": [],
   "source": [
    "#input the number = z\n",
    "#have to give s a starting value = 0 (the sum)\n",
    "#the range of numbers for which we find the primes is below 2000 (1999) and 2\n",
    "#work out if a number is only divisible by itself using the MOD function % (shows decimals)\n",
    "#because the range starts at the range input - 1 we are not dividing by itself\n",
    "#if MOD == 0 for a primenumber potential -> then we do NOT have a prime = False\n",
    "#add them all together\n",
    "#loop finished as print"
   ]
  },
  {
   "cell_type": "markdown",
   "metadata": {},
   "source": [
    "### Challenge 3: Multiples of 3 and 5\n",
    "If we list all of the natural numbers below 10 that are multiples of 3 or 5, we get 3, 5, 6, and 9. The sum of these multiples is 23. Find the sum of all the multiples of 3 and 5 below 1,000. Afterward, write a brief explanation walking through your code's logic in markdown."
   ]
  },
  {
   "cell_type": "code",
   "execution_count": 6,
   "metadata": {},
   "outputs": [
    {
     "name": "stdout",
     "output_type": "stream",
     "text": [
      "Enter the maximum number: 20\n",
      "78\n"
     ]
    }
   ],
   "source": [
    "\n",
    "z = int(input(\"Enter the maximum number: \"))\n",
    "print(\"\")\n",
    "s = 0\n",
    "\n",
    "for numbers in range(0, z):\n",
    "    use = False\n",
    "    \n",
    "    three = (numbers % 3)\n",
    "    five = (numbers % 5)\n",
    "    \n",
    "    if (three) == 0 or (five) == 0:\n",
    "        use = True        \n",
    "#       print(numbers, three, five)\n",
    "        \n",
    "    if use:\n",
    "        s = s + numbers\n",
    "\n",
    "print(s)"
   ]
  },
  {
   "cell_type": "code",
   "execution_count": null,
   "metadata": {},
   "outputs": [],
   "source": [
    "#define the range\n",
    "#use = false\n",
    "#if can divide the number by 3 OR 5 then use = true and then:\n",
    "#IF true = add them to the previous number \n"
   ]
  },
  {
   "cell_type": "markdown",
   "metadata": {},
   "source": [
    "### Challenge 4: String Compressor\n",
    "Implement a method to perform basic string compression using the counts of repeated characters. (This is called run-length encoding.) For example, the string \"aabcccccaaa\" would become a2b1c5a3. If the “compressed” string would not become smaller than the original string, your method should return the original string. You can assume the string has only uppercase and lowercase letters (a–z). Specify whether your solution is case sensitive or case insensitive and what you would need to change to make it the other. Afterward, write a brief explanation walking through your code's logic in markdown."
   ]
  },
  {
   "cell_type": "code",
   "execution_count": 14,
   "metadata": {},
   "outputs": [
    {
     "name": "stdout",
     "output_type": "stream",
     "text": [
      "z\n",
      "2\n",
      "zz\n",
      "3\n",
      "zzz\n",
      "4\n",
      "zzzz\n",
      "5\n",
      "zzzza\n",
      "6\n",
      "zzzzab\n",
      "7\n",
      "zzzzabc\n",
      "8\n",
      "zzzzabcc\n",
      "9\n"
     ]
    },
    {
     "ename": "IndexError",
     "evalue": "list index out of range",
     "output_type": "error",
     "traceback": [
      "\u001b[0;31m---------------------------------------------------------------------------\u001b[0m",
      "\u001b[0;31mIndexError\u001b[0m                                Traceback (most recent call last)",
      "\u001b[0;32m<ipython-input-14-4303a45531e2>\u001b[0m in \u001b[0;36m<module>\u001b[0;34m()\u001b[0m\n\u001b[1;32m      7\u001b[0m \u001b[0;34m\u001b[0m\u001b[0m\n\u001b[1;32m      8\u001b[0m \u001b[0;32mfor\u001b[0m \u001b[0mi\u001b[0m \u001b[0;32min\u001b[0m \u001b[0mrange\u001b[0m\u001b[0;34m(\u001b[0m\u001b[0;36m0\u001b[0m\u001b[0;34m,\u001b[0m\u001b[0mlength\u001b[0m\u001b[0;34m)\u001b[0m\u001b[0;34m:\u001b[0m\u001b[0;34m\u001b[0m\u001b[0m\n\u001b[0;32m----> 9\u001b[0;31m     \u001b[0;32mif\u001b[0m \u001b[0mword\u001b[0m\u001b[0;34m[\u001b[0m\u001b[0mi\u001b[0m\u001b[0;34m]\u001b[0m \u001b[0;34m==\u001b[0m \u001b[0mword\u001b[0m\u001b[0;34m[\u001b[0m\u001b[0mi\u001b[0m\u001b[0;34m-\u001b[0m\u001b[0;36m1\u001b[0m\u001b[0;34m]\u001b[0m\u001b[0;34m:\u001b[0m\u001b[0;34m\u001b[0m\u001b[0m\n\u001b[0m\u001b[1;32m     10\u001b[0m         \u001b[0;32mdel\u001b[0m \u001b[0mword\u001b[0m\u001b[0;34m[\u001b[0m\u001b[0mi\u001b[0m\u001b[0;34m]\u001b[0m\u001b[0;34m\u001b[0m\u001b[0m\n\u001b[1;32m     11\u001b[0m         \u001b[0mnewword\u001b[0m \u001b[0;34m=\u001b[0m \u001b[0mnewword\u001b[0m \u001b[0;34m+\u001b[0m \u001b[0mword\u001b[0m\u001b[0;34m[\u001b[0m\u001b[0mi\u001b[0m\u001b[0;34m-\u001b[0m\u001b[0;36m1\u001b[0m\u001b[0;34m]\u001b[0m\u001b[0;34m\u001b[0m\u001b[0m\n",
      "\u001b[0;31mIndexError\u001b[0m: list index out of range"
     ]
    }
   ],
   "source": [
    "word = ('zzzzzaaabbccccc')   \n",
    "word = list(word)\n",
    "newword = ('')\n",
    "\n",
    "length = len(word)\n",
    "count = 1\n",
    "\n",
    "for i in range(1,length):\n",
    "    if word[i] == word[i-1]:\n",
    "        del word[i]\n",
    "        newword = newword + word[i-1]\n",
    "        count = count + 1\n",
    "        i = 2\n",
    "        \n",
    "#       print (i)       \n",
    "        print (newword)\n",
    "        print (count)\n",
    "#       word.insert(int(i) , (count))"
   ]
  },
  {
   "cell_type": "code",
   "execution_count": null,
   "metadata": {},
   "outputs": [],
   "source": [
    "#finally giving up on this one...  probably the best part of 4hours going around in cirlces\n",
    "#am sure am missing a trick but basically\n",
    "#im trying to create new word by adding a letter everytime there is a consequitive letter\n",
    "#whilst creating the new word i am appending the old one but i cant figure out how to make \n",
    "#it loop back using the new appended word   nor the count of letters..."
   ]
  },
  {
   "cell_type": "markdown",
   "metadata": {},
   "source": [
    "### *BONUS* Challenge: FizzBuzz\n",
    "Write a program that prints all of the numbers from 1 to 100. For multiples of 3, instead of the number, print \"Fizz;\" for multiples of 5, print \"Buzz.\" For numbers that are multiples of both 3 and 5, print \"FizzBuzz.\" Afterward, write a brief explanation walking through your code's logic in markdown."
   ]
  },
  {
   "cell_type": "code",
   "execution_count": 13,
   "metadata": {},
   "outputs": [
    {
     "name": "stdout",
     "output_type": "stream",
     "text": [
      "Enter the maximum number: 2\n",
      "\n",
      "1\n",
      "2\n"
     ]
    }
   ],
   "source": [
    "#\n",
    "\n",
    "i = int(input(\"Enter the maximum number: \"))\n",
    "print(\"\")\n",
    "\n",
    "z = i + 1 \n",
    "\n",
    "for num in range(1,z):\n",
    "    if num % 3 == 0 and num % 5 == 0:  \n",
    "        print('Fizz Buzz')\n",
    "    elif num % 3 == 0:\n",
    "        print('Fizz')      \n",
    "    elif num % 5 == 0:\n",
    "        print('Buzz')\n",
    "    elif num % 3 != 0 and num % 5 !=0:\n",
    "        print((num))\n",
    "        \n"
   ]
  },
  {
   "cell_type": "code",
   "execution_count": null,
   "metadata": {},
   "outputs": [],
   "source": [
    "#input the number range and add one so it inludes the input as upper bound\n",
    "#divisible by 3 and 5 has to be check first as 'most contingent'\n",
    "#then 3 or 5 - either order\n",
    "#if none of the 3 condiditions = still need to return the number\n",
    "\n"
   ]
  }
 ],
 "metadata": {
  "anaconda-cloud": {},
  "kernelspec": {
   "display_name": "Python 3",
   "language": "python",
   "name": "python3"
  },
  "language_info": {
   "codemirror_mode": {
    "name": "ipython",
    "version": 3
   },
   "file_extension": ".py",
   "mimetype": "text/x-python",
   "name": "python",
   "nbconvert_exporter": "python",
   "pygments_lexer": "ipython3",
   "version": "3.7.0"
  }
 },
 "nbformat": 4,
 "nbformat_minor": 2
}
